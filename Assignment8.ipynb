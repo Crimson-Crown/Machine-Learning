{
 "cells": [
  {
   "cell_type": "markdown",
   "metadata": {},
   "source": [
    "# Clustering "
   ]
  },
  {
   "cell_type": "markdown",
   "metadata": {},
   "source": [
    "## 1. DBSCAN\n",
    "Using DBSCAN iterate (for-loop) through different values of `min_samples` (1 to 10) and `epsilon` (.05 to .5, in steps of .01)  to find clusters in the road-data used in the Lesson and calculate the Silohouette Coeff for `min_samples` and `epsilon`. Plot **_one_** line plot with the multiple lines generated from the min_samples and epsilon values. Use a 2D array to store the SilCoeff values, one dimension represents `min_samples`, the other represents epsilon.\n",
    "\n",
    "Expecting a plot of `epsilon` vs `sil_score`."
   ]
  },
  {
   "cell_type": "code",
   "execution_count": null,
   "metadata": {},
   "outputs": [],
   "source": [
    "import pandas as pd\n",
    "from sklearn.cluster import DBSCAN\n",
    "from sklearn.metrics import silhouette_score\n",
    "import numpy as np\n",
    "import matplotlib.pyplot as plt\n",
    "from joblib import Parallel, delayed\n",
    "\n",
    "# Load the road-data used in the Lesson\n",
    "road_data = pd.read_csv('3D_spatial_network.txt')  # Replace 'path_to_road_data.csv' with the actual file path\n",
    "\n",
    "# Create a 2D array to store the Silhouette Coefficient values\n",
    "silhouette_scores = np.zeros((10, 6))  # 10 min_samples and 6 epsilon values\n",
    "\n",
    "# Subsample the road-data\n",
    "subsampled_data = road_data.sample(n=1000, random_state=42)\n",
    "\n",
    "# Define a function to calculate silhouette score for a given min_samples and epsilon\n",
    "def calculate_silhouette(min_samples, epsilon, data):\n",
    "    dbscan = DBSCAN(eps=epsilon, min_samples=min_samples)\n",
    "    clusters = dbscan.fit_predict(data)\n",
    "    if len(set(clusters)) > 1:\n",
    "        silhouette = silhouette_score(data, clusters)\n",
    "        return silhouette\n",
    "    else:\n",
    "        return np.nan\n",
    "\n",
    "# Iterate through different values of min_samples and epsilon\n",
    "min_samples_range = range(1, 11)\n",
    "epsilon_values = np.arange(0.1, 0.61, 0.1)\n",
    "\n",
    "# Parallel computation of silhouette scores\n",
    "results = Parallel(n_jobs=-1)(delayed(calculate_silhouette)(min_samples, epsilon, subsampled_data) for min_samples in min_samples_range for epsilon in epsilon_values)\n",
    "\n",
    "# Reshape the results into a 2D array\n",
    "silhouette_scores = np.array(results).reshape((10, 6))\n",
    "\n",
    "# Plot epsilon vs sil_score\n",
    "for i in range(10):\n",
    "    plt.plot(epsilon_values, silhouette_scores[i], label=f\"min_samples={i+1}\")\n",
    "\n",
    "plt.xlabel('Epsilon')\n",
    "plt.ylabel('Silhouette Coefficient')\n",
    "plt.title('Epsilon vs Silhouette Coefficient for Different min_samples')\n",
    "plt.legend()\n",
    "plt.show()"
   ]
  },
  {
   "cell_type": "markdown",
   "metadata": {},
   "source": [
    "## 2. Clustering your own data\n",
    "Using your own data, find relevant clusters/groups within your data (repeat the above). If your data is labeled with a class that you are attempting to predict, be sure to not use it in training and clustering. \n",
    "\n",
    "You may use the labels to compare with predictions to show how well the clustering performed using one of the clustering metrics (http://scikit-learn.org/stable/modules/clustering.html#clustering-performance-evaluation). \n",
    "\n",
    "If you don't have labels, use the silhouette coefficient to show performance. Find the optimal fit for your data but you don't need to be as exhaustive as above.\n",
    "\n",
    "Additionally, show the clusters in 2D or 3D plots. \n",
    "\n",
    "As a bonus, try using PCA first to condense your data from N columns to less than N.\n",
    "\n",
    "Two items are expected: \n",
    "- Metric Evaluation Plot (like in 1.)\n",
    "- Plots of the clustered data"
   ]
  },
  {
   "cell_type": "code",
   "execution_count": null,
   "metadata": {},
   "outputs": [],
   "source": [
    "import pandas as pd\n",
    "from sklearn.cluster import DBSCAN\n",
    "from sklearn.metrics import silhouette_score\n",
    "import numpy as np\n",
    "import matplotlib.pyplot as plt\n",
    "from mpl_toolkits.mplot3d import Axes3D  # for 3D plotting\n",
    "\n",
    "# Load the road-data used in the Lesson\n",
    "road_data = pd.read_csv('3D_spatial_network.txt')  # Replace 'path_to_road_data.csv' with the actual file path\n",
    "\n",
    "# Subsample the road-data\n",
    "subsampled_data = road_data.sample(n=1000, random_state=42)\n",
    "\n",
    "# Perform DBSCAN clustering\n",
    "dbscan = DBSCAN(eps=0.1, min_samples=5)  # Example parameters, you can adjust these\n",
    "clusters = dbscan.fit_predict(subsampled_data[['X', 'Y', 'Z']])  # Assuming the columns are X, Y, Z\n",
    "\n",
    "# Calculate silhouette score\n",
    "silhouette = silhouette_score(subsampled_data[['X', 'Y', 'Z']], clusters)\n",
    "print(f\"Silhouette Score: {silhouette}\")\n",
    "\n",
    "# Visualize clusters in 3D plot\n",
    "fig = plt.figure()\n",
    "ax = fig.add_subplot(111, projection='3d')\n",
    "ax.scatter(subsampled_data['X'], subsampled_data['Y'], subsampled_data['Z'], c=clusters)\n",
    "ax.set_xlabel('X')\n",
    "ax.set_ylabel('Y')\n",
    "ax.set_zlabel('Z')\n",
    "plt.show()"
   ]
  },
  {
   "cell_type": "code",
   "execution_count": null,
   "metadata": {},
   "outputs": [],
   "source": []
  }
 ],
 "metadata": {
  "kernelspec": {
   "display_name": "anaconda-panel-2023.05-py310",
   "language": "python",
   "name": "conda-env-anaconda-panel-2023.05-py310-py"
  },
  "language_info": {
   "codemirror_mode": {
    "name": "ipython",
    "version": 3
   },
   "file_extension": ".py",
   "mimetype": "text/x-python",
   "name": "python",
   "nbconvert_exporter": "python",
   "pygments_lexer": "ipython3",
   "version": "3.11.5"
  }
 },
 "nbformat": 4,
 "nbformat_minor": 4
}
