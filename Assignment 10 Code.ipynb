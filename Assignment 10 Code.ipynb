{
 "cells": [
  {
   "cell_type": "code",
   "execution_count": 1,
   "id": "ee0264f5",
   "metadata": {},
   "outputs": [
    {
     "name": "stderr",
     "output_type": "stream",
     "text": [
      "Using TensorFlow backend.\n"
     ]
    },
    {
     "name": "stdout",
     "output_type": "stream",
     "text": [
      "60000 train samples\n",
      "10000 test samples\n"
     ]
    }
   ],
   "source": [
    "import keras\n",
    "from keras.datasets import mnist\n",
    "from keras.models import Sequential\n",
    "from keras.optimizers import RMSprop\n",
    "from keras.layers import Dense, Dropout, Flatten\n",
    "from keras.layers import Conv2D, MaxPooling2D\n",
    "from keras import backend\n",
    "\n",
    "(x_train, y_train), (x_test, y_test) = mnist.load_data()\n",
    "\n",
    "x_train = x_train.reshape(60000, 784)\n",
    "x_test = x_test.reshape(10000, 784)\n",
    "x_train = x_train.astype('float32')\n",
    "x_test = x_test.astype('float32')\n",
    "x_train /= 255\n",
    "x_test /= 255\n",
    "print(x_train.shape[0], 'train samples')\n",
    "print(x_test.shape[0], 'test samples')"
   ]
  },
  {
   "cell_type": "code",
   "execution_count": 3,
   "id": "dfb4eab5",
   "metadata": {},
   "outputs": [
    {
     "data": {
      "image/png": "[encoded data removed]",
      "text/plain": [
       "<Figure size 1500x500 with 10 Axes>"
      ]
     },
     "metadata": {},
     "output_type": "display_data"
    }
   ],
   "source": [
    "# Part 1\n",
    "import numpy as np\n",
    "import matplotlib.pyplot as plt\n",
    "from keras.models import Sequential\n",
    "# Add random noise to the training images\n",
    "train_noisy_images = x_train + np.random.normal(loc=0, scale=0.1, size=x_train.shape)\n",
    "\n",
    "# Add random noise to the testing images\n",
    "test_noisy_images = x_test + np.random.normal(loc=0, scale=0.1, size=x_test.shape)\n",
    "\n",
    "# Reshape the noisy images back to their original shape for visualization\n",
    "train_noisy_images_reshaped = train_noisy_images.reshape(-1, 28, 28)\n",
    "test_noisy_images_reshaped = test_noisy_images.reshape(-1, 28, 28)\n",
    "\n",
    "# Display several original and noisy images for inspection\n",
    "num_images_to_display = 5\n",
    "fig, axes = plt.subplots(2, num_images_to_display, figsize=(15, 5))\n",
    "\n",
    "for i in range(num_images_to_display):\n",
    "    axes[0, i].imshow(x_train[i].reshape(28, 28), cmap='gray')\n",
    "    axes[0, i].axis('off')\n",
    "    axes[0, i].set_title('Original')\n",
    "\n",
    "    axes[1, i].imshow(train_noisy_images_reshaped[i], cmap='gray')\n",
    "    axes[1, i].axis('off')\n",
    "    axes[1, i].set_title('Noisy')\n",
    "\n",
    "plt.show()"
   ]
  },
  {
   "cell_type": "code",
   "execution_count": null,
   "id": "2f0363ea",
   "metadata": {},
   "outputs": [],
   "source": [
    "# Part 2\n",
    "from keras.layers import Dense\n",
    "from keras.optimizers import Adam\n",
    "from sklearn.model_selection import train_test_split\n",
    "\n",
    "# Assuming x_train, y_train, x_test, y_test, train_noisy_images, test_noisy_images are available\n",
    "\n",
    "# Split the original and noisy datasets into training and validation sets\n",
    "x_train_orig, x_val_orig, y_train, y_val = train_test_split(x_train, y_train, test_size=0.2, random_state=42)\n",
    "x_train_noisy, x_val_noisy, _, _ = train_test_split(train_noisy_images, y_train, test_size=0.2, random_state=42)\n",
    "\n",
    "# Define the MLNN model architecture\n",
    "model_orig = Sequential([\n",
    "    Dense(128, activation='relu', input_shape=(784,)),\n",
    "    Dense(64, activation='relu'),\n",
    "    Dense(10, activation='softmax')\n",
    "])\n",
    "\n",
    "model_noisy = Sequential([\n",
    "    Dense(128, activation='relu', input_shape=(784,)),\n",
    "    Dense(64, activation='relu'),\n",
    "    Dense(10, activation='softmax')\n",
    "])\n",
    "\n",
    "# Compile the models\n",
    "model_orig.compile(optimizer=Adam(), loss='sparse_categorical_crossentropy', metrics=['accuracy'])\n",
    "model_noisy.compile(optimizer=Adam(), loss='sparse_categorical_crossentropy', metrics=['accuracy'])\n",
    "\n",
    "# Train the models\n",
    "epochs = 400\n",
    "history_orig = model_orig.fit(x_train_orig, y_train, epochs=epochs, validation_data=(x_val_orig, y_val), verbose=0)\n",
    "history_noisy = model_noisy.fit(x_train_noisy, y_train, epochs=epochs, validation_data=(x_val_noisy, y_val), verbose=0)\n",
    "\n",
    "# Evaluate the models\n",
    "train_acc_orig = history_orig.history['accuracy'][-1]\n",
    "val_acc_orig = history_orig.history['val_accuracy'][-1]\n",
    "\n",
    "train_acc_noisy = history_noisy.history['accuracy'][-1]\n",
    "val_acc_noisy = history_noisy.history['val_accuracy'][-1]\n",
    "\n",
    "# Compare the accuracies\n",
    "print(f\"Original Model - Training Accuracy: {train_acc_orig}, Validation Accuracy: {val_acc_orig}\")\n",
    "print(f\"Noisy Model - Training Accuracy: {train_acc_noisy}, Validation Accuracy: {val_acc_noisy}\")"
   ]
  },
  {
   "cell_type": "code",
   "execution_count": null,
   "id": "49d9d1ae",
   "metadata": {},
   "outputs": [],
   "source": [
    "# Part 3\n",
    "import numpy as np\n",
    "import matplotlib.pyplot as plt\n",
    "from keras.models import Sequential\n",
    "from keras.layers import Dense\n",
    "from keras.optimizers import Adam\n",
    "from sklearn.model_selection import train_test_split\n",
    "\n",
    "# Define the scale factors for noise\n",
    "scale_factors = [0.1, 0.5, 1.0, 2.0, 4.0]\n",
    "\n",
    "# Initialize lists to store the accuracies\n",
    "train_accs = []\n",
    "val_accs = []\n",
    "\n",
    "# Assuming x_train, y_train, x_test, y_test are available\n",
    "\n",
    "# Split the original dataset into training and validation sets\n",
    "x_train_orig, x_val_orig, y_train, y_val = train_test_split(x_train, y_train, test_size=0.2, random_state=42)\n",
    "\n",
    "# Define the MLNN model architecture\n",
    "model = Sequential([\n",
    "    Dense(128, activation='relu', input_shape=(784,)),\n",
    "    Dense(64, activation='relu'),\n",
    "    Dense(10, activation='softmax')\n",
    "])\n",
    "\n",
    "# Compile the model\n",
    "model.compile(optimizer=Adam(), loss='sparse_categorical_crossentropy', metrics=['accuracy'])\n",
    "\n",
    "# Train the model with varying levels of noise\n",
    "epochs = 10  # Number of epochs for training\n",
    "for scale in scale_factors:\n",
    "    # Add random noise to the training and validation sets\n",
    "    x_train_noisy = x_train_orig + np.random.normal(loc=0, scale=scale, size=x_train_orig.shape)\n",
    "    x_val_noisy = x_val_orig + np.random.normal(loc=0, scale=scale, size=x_val_orig.shape)\n",
    "\n",
    "    # Train the model with noisy data\n",
    "    history = model.fit(x_train_noisy, y_train, epochs=epochs, validation_data=(x_val_noisy, y_val), verbose=0)\n",
    "\n",
    "    # Record the training and validation accuracies\n",
    "    train_accs.append(history.history['accuracy'][-1])\n",
    "    val_accs.append(history.history['val_accuracy'][-1])\n",
    "\n",
    "# Plot the results\n",
    "plt.figure(figsize=(10, 6))\n",
    "plt.plot(scale_factors, train_accs, marker='o', label='Training Accuracy')\n",
    "plt.plot(scale_factors, val_accs, marker='o', label='Validation Accuracy')\n",
    "plt.xlabel('Scale Factor')\n",
    "plt.ylabel('Accuracy')\n",
    "plt.title('Effect of Noise on Model Accuracy')\n",
    "plt.xticks(scale_factors)\n",
    "plt.legend()\n",
    "plt.show()"
   ]
  }
 ],
 "metadata": {
  "kernelspec": {
   "display_name": "Python 3",
   "language": "python",
   "name": "python3"
  },
  "language_info": {
   "codemirror_mode": {
    "name": "ipython",
    "version": 3
   },
   "file_extension": ".py",
   "mimetype": "text/x-python",
   "name": "python",
   "nbconvert_exporter": "python",
   "pygments_lexer": "ipython3",
   "version": "3.7.0"
  }
 },
 "nbformat": 4,
 "nbformat_minor": 5
}
